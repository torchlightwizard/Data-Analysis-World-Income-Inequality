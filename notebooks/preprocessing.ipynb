{
 "cells": [
  {
   "cell_type": "markdown",
   "metadata": {},
   "source": [
    "# Preprocessing"
   ]
  },
  {
   "cell_type": "markdown",
   "metadata": {},
   "source": [
    "## Initial Inspection"
   ]
  },
  {
   "cell_type": "code",
   "execution_count": 1,
   "metadata": {},
   "outputs": [
    {
     "data": {
      "text/html": [
       "<div>\n",
       "<style scoped>\n",
       "    .dataframe tbody tr th:only-of-type {\n",
       "        vertical-align: middle;\n",
       "    }\n",
       "\n",
       "    .dataframe tbody tr th {\n",
       "        vertical-align: top;\n",
       "    }\n",
       "\n",
       "    .dataframe thead th {\n",
       "        text-align: right;\n",
       "    }\n",
       "</style>\n",
       "<table border=\"1\" class=\"dataframe\">\n",
       "  <thead>\n",
       "    <tr style=\"text-align: right;\">\n",
       "      <th></th>\n",
       "      <th>id</th>\n",
       "      <th>country</th>\n",
       "      <th>c3</th>\n",
       "      <th>c2</th>\n",
       "      <th>year</th>\n",
       "      <th>gini_reported</th>\n",
       "      <th>q1</th>\n",
       "      <th>q2</th>\n",
       "      <th>q3</th>\n",
       "      <th>q4</th>\n",
       "      <th>...</th>\n",
       "      <th>median_usd</th>\n",
       "      <th>gdp_ppp_pc_usd2011</th>\n",
       "      <th>population</th>\n",
       "      <th>revision</th>\n",
       "      <th>quality</th>\n",
       "      <th>quality_score</th>\n",
       "      <th>source</th>\n",
       "      <th>source_detailed</th>\n",
       "      <th>source_comments</th>\n",
       "      <th>survey</th>\n",
       "    </tr>\n",
       "  </thead>\n",
       "  <tbody>\n",
       "    <tr>\n",
       "      <th>0</th>\n",
       "      <td>1</td>\n",
       "      <td>Afghanistan</td>\n",
       "      <td>AFG</td>\n",
       "      <td>AF</td>\n",
       "      <td>2008</td>\n",
       "      <td>29.00</td>\n",
       "      <td>9.00</td>\n",
       "      <td>13.00</td>\n",
       "      <td>17.00</td>\n",
       "      <td>22.00</td>\n",
       "      <td>...</td>\n",
       "      <td>NaN</td>\n",
       "      <td>1298.0</td>\n",
       "      <td>27294031.0</td>\n",
       "      <td>New 2013</td>\n",
       "      <td>High</td>\n",
       "      <td>12</td>\n",
       "      <td>National statistical authority</td>\n",
       "      <td>European Commission and the Government of Afgh...</td>\n",
       "      <td>National Risk and Vulnerability Assessment</td>\n",
       "      <td>NaN</td>\n",
       "    </tr>\n",
       "    <tr>\n",
       "      <th>1</th>\n",
       "      <td>2</td>\n",
       "      <td>Albania</td>\n",
       "      <td>ALB</td>\n",
       "      <td>AL</td>\n",
       "      <td>1996</td>\n",
       "      <td>27.01</td>\n",
       "      <td>9.15</td>\n",
       "      <td>13.70</td>\n",
       "      <td>17.73</td>\n",
       "      <td>23.29</td>\n",
       "      <td>...</td>\n",
       "      <td>1982.0</td>\n",
       "      <td>4812.0</td>\n",
       "      <td>3092228.0</td>\n",
       "      <td>New 2018</td>\n",
       "      <td>Average</td>\n",
       "      <td>13</td>\n",
       "      <td>World Bank</td>\n",
       "      <td>World Bank 2018</td>\n",
       "      <td>PovcalNet</td>\n",
       "      <td>NaN</td>\n",
       "    </tr>\n",
       "    <tr>\n",
       "      <th>2</th>\n",
       "      <td>3</td>\n",
       "      <td>Albania</td>\n",
       "      <td>ALB</td>\n",
       "      <td>AL</td>\n",
       "      <td>2002</td>\n",
       "      <td>31.74</td>\n",
       "      <td>8.35</td>\n",
       "      <td>12.58</td>\n",
       "      <td>16.49</td>\n",
       "      <td>22.21</td>\n",
       "      <td>...</td>\n",
       "      <td>1902.0</td>\n",
       "      <td>6316.0</td>\n",
       "      <td>3119029.0</td>\n",
       "      <td>New 2018</td>\n",
       "      <td>Average</td>\n",
       "      <td>13</td>\n",
       "      <td>World Bank</td>\n",
       "      <td>World Bank 2018</td>\n",
       "      <td>PovcalNet</td>\n",
       "      <td>NaN</td>\n",
       "    </tr>\n",
       "    <tr>\n",
       "      <th>3</th>\n",
       "      <td>4</td>\n",
       "      <td>Albania</td>\n",
       "      <td>ALB</td>\n",
       "      <td>AL</td>\n",
       "      <td>2005</td>\n",
       "      <td>30.60</td>\n",
       "      <td>8.40</td>\n",
       "      <td>12.90</td>\n",
       "      <td>17.03</td>\n",
       "      <td>22.50</td>\n",
       "      <td>...</td>\n",
       "      <td>2217.0</td>\n",
       "      <td>7563.0</td>\n",
       "      <td>3079179.0</td>\n",
       "      <td>New 2018</td>\n",
       "      <td>Average</td>\n",
       "      <td>13</td>\n",
       "      <td>World Bank</td>\n",
       "      <td>World Bank 2018</td>\n",
       "      <td>PovcalNet</td>\n",
       "      <td>NaN</td>\n",
       "    </tr>\n",
       "    <tr>\n",
       "      <th>4</th>\n",
       "      <td>5</td>\n",
       "      <td>Albania</td>\n",
       "      <td>ALB</td>\n",
       "      <td>AL</td>\n",
       "      <td>2008</td>\n",
       "      <td>29.98</td>\n",
       "      <td>8.87</td>\n",
       "      <td>13.07</td>\n",
       "      <td>16.83</td>\n",
       "      <td>22.23</td>\n",
       "      <td>...</td>\n",
       "      <td>2385.0</td>\n",
       "      <td>9018.0</td>\n",
       "      <td>2991651.0</td>\n",
       "      <td>New 2018</td>\n",
       "      <td>Average</td>\n",
       "      <td>13</td>\n",
       "      <td>World Bank</td>\n",
       "      <td>World Bank 2018</td>\n",
       "      <td>PovcalNet</td>\n",
       "      <td>NaN</td>\n",
       "    </tr>\n",
       "  </tbody>\n",
       "</table>\n",
       "<p>5 rows × 55 columns</p>\n",
       "</div>"
      ],
      "text/plain": [
       "   id      country   c3  c2  year  gini_reported    q1     q2     q3     q4  \\\n",
       "0   1  Afghanistan  AFG  AF  2008          29.00  9.00  13.00  17.00  22.00   \n",
       "1   2      Albania  ALB  AL  1996          27.01  9.15  13.70  17.73  23.29   \n",
       "2   3      Albania  ALB  AL  2002          31.74  8.35  12.58  16.49  22.21   \n",
       "3   4      Albania  ALB  AL  2005          30.60  8.40  12.90  17.03  22.50   \n",
       "4   5      Albania  ALB  AL  2008          29.98  8.87  13.07  16.83  22.23   \n",
       "\n",
       "   ...  median_usd  gdp_ppp_pc_usd2011  population  revision  quality  \\\n",
       "0  ...         NaN              1298.0  27294031.0  New 2013     High   \n",
       "1  ...      1982.0              4812.0   3092228.0  New 2018  Average   \n",
       "2  ...      1902.0              6316.0   3119029.0  New 2018  Average   \n",
       "3  ...      2217.0              7563.0   3079179.0  New 2018  Average   \n",
       "4  ...      2385.0              9018.0   2991651.0  New 2018  Average   \n",
       "\n",
       "   quality_score                          source  \\\n",
       "0             12  National statistical authority   \n",
       "1             13                      World Bank   \n",
       "2             13                      World Bank   \n",
       "3             13                      World Bank   \n",
       "4             13                      World Bank   \n",
       "\n",
       "                                     source_detailed  \\\n",
       "0  European Commission and the Government of Afgh...   \n",
       "1                                    World Bank 2018   \n",
       "2                                    World Bank 2018   \n",
       "3                                    World Bank 2018   \n",
       "4                                    World Bank 2018   \n",
       "\n",
       "                              source_comments  survey  \n",
       "0  National Risk and Vulnerability Assessment     NaN  \n",
       "1                                   PovcalNet     NaN  \n",
       "2                                   PovcalNet     NaN  \n",
       "3                                   PovcalNet     NaN  \n",
       "4                                   PovcalNet     NaN  \n",
       "\n",
       "[5 rows x 55 columns]"
      ]
     },
     "execution_count": 1,
     "metadata": {},
     "output_type": "execute_result"
    }
   ],
   "source": [
    "import pandas as pd\n",
    "\n",
    "path = \"../data/\"\n",
    "data = pd.read_excel(path+\"raw/WIID_19Dec2018.xlsx\")\n",
    "data.head()"
   ]
  },
  {
   "cell_type": "code",
   "execution_count": 2,
   "metadata": {},
   "outputs": [
    {
     "name": "stdout",
     "output_type": "stream",
     "text": [
      "(11101, 55)\n",
      "Index(['id', 'country', 'c3', 'c2', 'year', 'gini_reported', 'q1', 'q2', 'q3',\n",
      "       'q4', 'q5', 'd1', 'd2', 'd3', 'd4', 'd5', 'd6', 'd7', 'd8', 'd9', 'd10',\n",
      "       'bottom5', 'top5', 'resource', 'resource_detailed', 'scale',\n",
      "       'scale_detailed', 'sharing_unit', 'reference_unit', 'areacovr',\n",
      "       'areacovr_detailed', 'popcovr', 'popcovr_detailed', 'region_un',\n",
      "       'region_un_sub', 'region_wb', 'eu', 'oecd', 'incomegroup', 'mean',\n",
      "       'median', 'currency', 'reference_period', 'exchangerate', 'mean_usd',\n",
      "       'median_usd', 'gdp_ppp_pc_usd2011', 'population', 'revision', 'quality',\n",
      "       'quality_score', 'source', 'source_detailed', 'source_comments',\n",
      "       'survey'],\n",
      "      dtype='object')\n"
     ]
    }
   ],
   "source": [
    "print(data.shape)\n",
    "print(data.columns)"
   ]
  },
  {
   "cell_type": "code",
   "execution_count": 3,
   "metadata": {},
   "outputs": [
    {
     "data": {
      "text/html": [
       "<div>\n",
       "<style scoped>\n",
       "    .dataframe tbody tr th:only-of-type {\n",
       "        vertical-align: middle;\n",
       "    }\n",
       "\n",
       "    .dataframe tbody tr th {\n",
       "        vertical-align: top;\n",
       "    }\n",
       "\n",
       "    .dataframe thead th {\n",
       "        text-align: right;\n",
       "    }\n",
       "</style>\n",
       "<table border=\"1\" class=\"dataframe\">\n",
       "  <thead>\n",
       "    <tr style=\"text-align: right;\">\n",
       "      <th></th>\n",
       "      <th>d1</th>\n",
       "      <th>d2</th>\n",
       "      <th>d3</th>\n",
       "      <th>d4</th>\n",
       "      <th>d5</th>\n",
       "      <th>d6</th>\n",
       "      <th>d7</th>\n",
       "      <th>d8</th>\n",
       "      <th>d9</th>\n",
       "      <th>d10</th>\n",
       "    </tr>\n",
       "  </thead>\n",
       "  <tbody>\n",
       "    <tr>\n",
       "      <th>0</th>\n",
       "      <td>NaN</td>\n",
       "      <td>NaN</td>\n",
       "      <td>NaN</td>\n",
       "      <td>NaN</td>\n",
       "      <td>NaN</td>\n",
       "      <td>NaN</td>\n",
       "      <td>NaN</td>\n",
       "      <td>NaN</td>\n",
       "      <td>NaN</td>\n",
       "      <td>NaN</td>\n",
       "    </tr>\n",
       "    <tr>\n",
       "      <th>1</th>\n",
       "      <td>3.86</td>\n",
       "      <td>5.29</td>\n",
       "      <td>6.38</td>\n",
       "      <td>7.32</td>\n",
       "      <td>8.38</td>\n",
       "      <td>9.35</td>\n",
       "      <td>10.82</td>\n",
       "      <td>12.47</td>\n",
       "      <td>14.90</td>\n",
       "      <td>21.22</td>\n",
       "    </tr>\n",
       "    <tr>\n",
       "      <th>2</th>\n",
       "      <td>3.49</td>\n",
       "      <td>4.86</td>\n",
       "      <td>5.84</td>\n",
       "      <td>6.74</td>\n",
       "      <td>7.65</td>\n",
       "      <td>8.84</td>\n",
       "      <td>10.23</td>\n",
       "      <td>11.98</td>\n",
       "      <td>14.93</td>\n",
       "      <td>25.44</td>\n",
       "    </tr>\n",
       "    <tr>\n",
       "      <th>3</th>\n",
       "      <td>3.48</td>\n",
       "      <td>4.92</td>\n",
       "      <td>5.98</td>\n",
       "      <td>6.92</td>\n",
       "      <td>7.99</td>\n",
       "      <td>9.04</td>\n",
       "      <td>10.37</td>\n",
       "      <td>12.13</td>\n",
       "      <td>14.83</td>\n",
       "      <td>24.34</td>\n",
       "    </tr>\n",
       "    <tr>\n",
       "      <th>4</th>\n",
       "      <td>3.73</td>\n",
       "      <td>5.14</td>\n",
       "      <td>6.09</td>\n",
       "      <td>6.98</td>\n",
       "      <td>7.91</td>\n",
       "      <td>8.92</td>\n",
       "      <td>10.30</td>\n",
       "      <td>11.93</td>\n",
       "      <td>14.54</td>\n",
       "      <td>24.46</td>\n",
       "    </tr>\n",
       "    <tr>\n",
       "      <th>5</th>\n",
       "      <td>3.66</td>\n",
       "      <td>5.19</td>\n",
       "      <td>6.14</td>\n",
       "      <td>7.03</td>\n",
       "      <td>8.08</td>\n",
       "      <td>9.26</td>\n",
       "      <td>10.52</td>\n",
       "      <td>12.29</td>\n",
       "      <td>14.89</td>\n",
       "      <td>22.93</td>\n",
       "    </tr>\n",
       "    <tr>\n",
       "      <th>6</th>\n",
       "      <td>2.70</td>\n",
       "      <td>3.84</td>\n",
       "      <td>4.87</td>\n",
       "      <td>5.87</td>\n",
       "      <td>6.90</td>\n",
       "      <td>8.03</td>\n",
       "      <td>9.40</td>\n",
       "      <td>11.24</td>\n",
       "      <td>14.34</td>\n",
       "      <td>32.81</td>\n",
       "    </tr>\n",
       "    <tr>\n",
       "      <th>7</th>\n",
       "      <td>2.87</td>\n",
       "      <td>4.09</td>\n",
       "      <td>5.22</td>\n",
       "      <td>6.33</td>\n",
       "      <td>7.48</td>\n",
       "      <td>8.76</td>\n",
       "      <td>10.29</td>\n",
       "      <td>12.34</td>\n",
       "      <td>15.73</td>\n",
       "      <td>26.89</td>\n",
       "    </tr>\n",
       "    <tr>\n",
       "      <th>8</th>\n",
       "      <td>4.05</td>\n",
       "      <td>5.31</td>\n",
       "      <td>6.36</td>\n",
       "      <td>7.31</td>\n",
       "      <td>8.24</td>\n",
       "      <td>9.23</td>\n",
       "      <td>10.39</td>\n",
       "      <td>11.90</td>\n",
       "      <td>14.36</td>\n",
       "      <td>22.86</td>\n",
       "    </tr>\n",
       "    <tr>\n",
       "      <th>9</th>\n",
       "      <td>NaN</td>\n",
       "      <td>NaN</td>\n",
       "      <td>NaN</td>\n",
       "      <td>NaN</td>\n",
       "      <td>NaN</td>\n",
       "      <td>NaN</td>\n",
       "      <td>NaN</td>\n",
       "      <td>NaN</td>\n",
       "      <td>NaN</td>\n",
       "      <td>NaN</td>\n",
       "    </tr>\n",
       "  </tbody>\n",
       "</table>\n",
       "</div>"
      ],
      "text/plain": [
       "     d1    d2    d3    d4    d5    d6     d7     d8     d9    d10\n",
       "0   NaN   NaN   NaN   NaN   NaN   NaN    NaN    NaN    NaN    NaN\n",
       "1  3.86  5.29  6.38  7.32  8.38  9.35  10.82  12.47  14.90  21.22\n",
       "2  3.49  4.86  5.84  6.74  7.65  8.84  10.23  11.98  14.93  25.44\n",
       "3  3.48  4.92  5.98  6.92  7.99  9.04  10.37  12.13  14.83  24.34\n",
       "4  3.73  5.14  6.09  6.98  7.91  8.92  10.30  11.93  14.54  24.46\n",
       "5  3.66  5.19  6.14  7.03  8.08  9.26  10.52  12.29  14.89  22.93\n",
       "6  2.70  3.84  4.87  5.87  6.90  8.03   9.40  11.24  14.34  32.81\n",
       "7  2.87  4.09  5.22  6.33  7.48  8.76  10.29  12.34  15.73  26.89\n",
       "8  4.05  5.31  6.36  7.31  8.24  9.23  10.39  11.90  14.36  22.86\n",
       "9   NaN   NaN   NaN   NaN   NaN   NaN    NaN    NaN    NaN    NaN"
      ]
     },
     "execution_count": 3,
     "metadata": {},
     "output_type": "execute_result"
    }
   ],
   "source": [
    "i = 11\n",
    "data.iloc[:10, i:i+10]"
   ]
  },
  {
   "cell_type": "code",
   "execution_count": 4,
   "metadata": {},
   "outputs": [
    {
     "data": {
      "text/html": [
       "<div>\n",
       "<style scoped>\n",
       "    .dataframe tbody tr th:only-of-type {\n",
       "        vertical-align: middle;\n",
       "    }\n",
       "\n",
       "    .dataframe tbody tr th {\n",
       "        vertical-align: top;\n",
       "    }\n",
       "\n",
       "    .dataframe thead th {\n",
       "        text-align: right;\n",
       "    }\n",
       "</style>\n",
       "<table border=\"1\" class=\"dataframe\">\n",
       "  <thead>\n",
       "    <tr style=\"text-align: right;\">\n",
       "      <th></th>\n",
       "      <th>bottom5</th>\n",
       "      <th>top5</th>\n",
       "    </tr>\n",
       "  </thead>\n",
       "  <tbody>\n",
       "    <tr>\n",
       "      <th>0</th>\n",
       "      <td>NaN</td>\n",
       "      <td>NaN</td>\n",
       "    </tr>\n",
       "    <tr>\n",
       "      <th>1</th>\n",
       "      <td>NaN</td>\n",
       "      <td>NaN</td>\n",
       "    </tr>\n",
       "    <tr>\n",
       "      <th>2</th>\n",
       "      <td>NaN</td>\n",
       "      <td>NaN</td>\n",
       "    </tr>\n",
       "    <tr>\n",
       "      <th>3</th>\n",
       "      <td>NaN</td>\n",
       "      <td>NaN</td>\n",
       "    </tr>\n",
       "    <tr>\n",
       "      <th>4</th>\n",
       "      <td>NaN</td>\n",
       "      <td>NaN</td>\n",
       "    </tr>\n",
       "    <tr>\n",
       "      <th>5</th>\n",
       "      <td>NaN</td>\n",
       "      <td>NaN</td>\n",
       "    </tr>\n",
       "    <tr>\n",
       "      <th>6</th>\n",
       "      <td>NaN</td>\n",
       "      <td>NaN</td>\n",
       "    </tr>\n",
       "    <tr>\n",
       "      <th>7</th>\n",
       "      <td>NaN</td>\n",
       "      <td>NaN</td>\n",
       "    </tr>\n",
       "    <tr>\n",
       "      <th>8</th>\n",
       "      <td>NaN</td>\n",
       "      <td>NaN</td>\n",
       "    </tr>\n",
       "    <tr>\n",
       "      <th>9</th>\n",
       "      <td>NaN</td>\n",
       "      <td>NaN</td>\n",
       "    </tr>\n",
       "  </tbody>\n",
       "</table>\n",
       "</div>"
      ],
      "text/plain": [
       "   bottom5  top5\n",
       "0      NaN   NaN\n",
       "1      NaN   NaN\n",
       "2      NaN   NaN\n",
       "3      NaN   NaN\n",
       "4      NaN   NaN\n",
       "5      NaN   NaN\n",
       "6      NaN   NaN\n",
       "7      NaN   NaN\n",
       "8      NaN   NaN\n",
       "9      NaN   NaN"
      ]
     },
     "execution_count": 4,
     "metadata": {},
     "output_type": "execute_result"
    }
   ],
   "source": [
    "i = 21\n",
    "data[[\"bottom5\", \"top5\"]].iloc[:10]"
   ]
  },
  {
   "cell_type": "code",
   "execution_count": 5,
   "metadata": {},
   "outputs": [
    {
     "data": {
      "text/plain": [
       "array(['Consumption', 'Income (net/gross)', 'Income (net)', 'Earnings',\n",
       "       'Income (gross)', nan], dtype=object)"
      ]
     },
     "execution_count": 5,
     "metadata": {},
     "output_type": "execute_result"
    }
   ],
   "source": [
    "data[\"resource\"].unique()"
   ]
  },
  {
   "cell_type": "code",
   "execution_count": 6,
   "metadata": {},
   "outputs": [
    {
     "data": {
      "text/plain": [
       "array(['Consumption', 'Income, net/gross', 'Monetary income, net',\n",
       "       'Primary income', 'Income, gross', 'Income, net', 'Market income',\n",
       "       'Earnings, gross', 'Monetary income, gross',\n",
       "       'Taxable income, gross', 'Taxable income, net', 'Earnings, net',\n",
       "       'Monetary income', 'Earnings', 'Factor income',\n",
       "       'Monetary income, net (excluding property income)',\n",
       "       'Income/consumption', 'Taxable income, excluding property income',\n",
       "       'Taxable income, gross (including deductions)'], dtype=object)"
      ]
     },
     "execution_count": 6,
     "metadata": {},
     "output_type": "execute_result"
    }
   ],
   "source": [
    "data[\"resource_detailed\"].unique()"
   ]
  },
  {
   "cell_type": "code",
   "execution_count": 7,
   "metadata": {},
   "outputs": [
    {
     "data": {
      "text/plain": [
       "resource            resource_detailed                               \n",
       "Income (net)        Income, net                                         3671\n",
       "Income (net/gross)  Income, net/gross                                   2329\n",
       "Income (gross)      Income, gross                                       1656\n",
       "Consumption         Consumption                                         1572\n",
       "Earnings            Market income                                        530\n",
       "                    Earnings, gross                                      489\n",
       "Income (net)        Monetary income, net                                 218\n",
       "Earnings            Taxable income, gross                                152\n",
       "Income (gross)      Monetary income, gross                               148\n",
       "Earnings            Earnings, net                                        139\n",
       "                    Primary income                                        69\n",
       "                    Taxable income, net                                   65\n",
       "                    Factor income                                         25\n",
       "Income (net/gross)  Monetary income                                       19\n",
       "Earnings            Earnings                                               9\n",
       "Income (net)        Monetary income, net (excluding property income)       7\n",
       "Earnings            Taxable income, gross (including deductions)           1\n",
       "                    Taxable income, excluding property income              1\n",
       "Name: count, dtype: int64"
      ]
     },
     "execution_count": 7,
     "metadata": {},
     "output_type": "execute_result"
    }
   ],
   "source": [
    "data[[\"resource\", \"resource_detailed\"]].value_counts()"
   ]
  },
  {
   "cell_type": "code",
   "execution_count": 8,
   "metadata": {},
   "outputs": [
    {
     "data": {
      "text/plain": [
       "array(['Consumption'], dtype=object)"
      ]
     },
     "execution_count": 8,
     "metadata": {},
     "output_type": "execute_result"
    }
   ],
   "source": [
    "data[data[\"resource\"] == \"Consumption\"][\"resource_detailed\"].unique()"
   ]
  },
  {
   "cell_type": "code",
   "execution_count": 9,
   "metadata": {},
   "outputs": [
    {
     "data": {
      "text/plain": [
       "resource\n",
       "Income (net)          3896\n",
       "Income (net/gross)    2348\n",
       "Income (gross)        1804\n",
       "Consumption           1572\n",
       "Earnings              1480\n",
       "Name: count, dtype: int64"
      ]
     },
     "execution_count": 9,
     "metadata": {},
     "output_type": "execute_result"
    }
   ],
   "source": [
    "data[\"resource\"].value_counts()"
   ]
  },
  {
   "cell_type": "code",
   "execution_count": 10,
   "metadata": {},
   "outputs": [
    {
     "data": {
      "text/plain": [
       "resource             1\n",
       "resource_detailed    0\n",
       "dtype: int64"
      ]
     },
     "execution_count": 10,
     "metadata": {},
     "output_type": "execute_result"
    }
   ],
   "source": [
    "data[[\"resource\", \"resource_detailed\"]].isna().sum()"
   ]
  },
  {
   "cell_type": "code",
   "execution_count": 11,
   "metadata": {},
   "outputs": [
    {
     "data": {
      "text/plain": [
       "array(['Consumption', 'Income, net/gross', 'Monetary income, net',\n",
       "       'Primary income', 'Income, gross', 'Income, net', 'Market income',\n",
       "       'Earnings, gross', 'Monetary income, gross',\n",
       "       'Taxable income, gross', 'Taxable income, net', 'Earnings, net',\n",
       "       'Monetary income', 'Earnings', 'Factor income',\n",
       "       'Monetary income, net (excluding property income)',\n",
       "       'Income/consumption', 'Taxable income, excluding property income',\n",
       "       'Taxable income, gross (including deductions)'], dtype=object)"
      ]
     },
     "execution_count": 11,
     "metadata": {},
     "output_type": "execute_result"
    }
   ],
   "source": [
    "data[\"resource_detailed\"].unique()"
   ]
  },
  {
   "cell_type": "code",
   "execution_count": 12,
   "metadata": {},
   "outputs": [
    {
     "data": {
      "text/plain": [
       "array(['Per capita', 'Equivalized', 'No adjustment', nan,\n",
       "       'Family per capita', 'Family equivalized, OECD', 'OECD-modified',\n",
       "       'OECD', 'Economic family equivalized, square root',\n",
       "       'Family equivalized, square root',\n",
       "       'Census family equivalized, square root', 'Family equivalized',\n",
       "       'Household equivalized, social assistance', 'Tax unit per capita',\n",
       "       'National scale', '1988 revised Jensen scale',\n",
       "       'Family equivalized, social assistance',\n",
       "       'Family equivalized, national scale',\n",
       "       'Tax unit equivalized, square root', '1977 McClements scale',\n",
       "       'Head of household'], dtype=object)"
      ]
     },
     "execution_count": 12,
     "metadata": {},
     "output_type": "execute_result"
    }
   ],
   "source": [
    "data[\"scale_detailed\"].unique()"
   ]
  },
  {
   "cell_type": "code",
   "execution_count": 13,
   "metadata": {},
   "outputs": [
    {
     "data": {
      "text/plain": [
       "array(['Per capita', 'Equivalized', 'No adjustment', nan], dtype=object)"
      ]
     },
     "execution_count": 13,
     "metadata": {},
     "output_type": "execute_result"
    }
   ],
   "source": [
    "data[\"scale\"].unique()"
   ]
  },
  {
   "cell_type": "code",
   "execution_count": 14,
   "metadata": {},
   "outputs": [
    {
     "data": {
      "text/plain": [
       "scale          scale_detailed                          \n",
       "Per capita     Per capita                                  4812\n",
       "Equivalized    Equivalized                                 2665\n",
       "No adjustment  No adjustment                               2157\n",
       "Equivalized    OECD-modified                                659\n",
       "Per capita     Family per capita                             93\n",
       "Equivalized    1977 McClements scale                         43\n",
       "               Family equivalized, social assistance         25\n",
       "               Economic family equivalized, square root      22\n",
       "Per capita     Head of household                             22\n",
       "Equivalized    National scale                                20\n",
       "               Household equivalized, social assistance      15\n",
       "               1988 revised Jensen scale                     12\n",
       "               OECD                                          11\n",
       "               Family equivalized, square root                9\n",
       "               Census family equivalized, square root         8\n",
       "               Family equivalized, national scale             8\n",
       "               Family equivalized                             7\n",
       "               Family equivalized, OECD                       4\n",
       "Per capita     Tax unit per capita                            3\n",
       "Equivalized    Tax unit equivalized, square root              1\n",
       "Name: count, dtype: int64"
      ]
     },
     "execution_count": 14,
     "metadata": {},
     "output_type": "execute_result"
    }
   ],
   "source": [
    "data[[\"scale\", \"scale_detailed\"]].value_counts()"
   ]
  },
  {
   "cell_type": "code",
   "execution_count": 15,
   "metadata": {},
   "outputs": [
    {
     "data": {
      "text/plain": [
       "sharing_unit  reference_unit\n",
       "Household     Person            8431\n",
       "              Household         1338\n",
       "Person        Person             768\n",
       "Tax unit      Tax unit            49\n",
       "Family        Person               6\n",
       "Household     Family               2\n",
       "Tax unit      Person               2\n",
       "Name: count, dtype: int64"
      ]
     },
     "execution_count": 15,
     "metadata": {},
     "output_type": "execute_result"
    }
   ],
   "source": [
    "data[[\"sharing_unit\", \"reference_unit\"]].value_counts()"
   ]
  },
  {
   "cell_type": "code",
   "execution_count": 16,
   "metadata": {},
   "outputs": [
    {
     "data": {
      "text/plain": [
       "scale          scale_detailed                            sharing_unit  reference_unit\n",
       "Equivalized    1977 McClements scale                     Household     Person              43\n",
       "               1988 revised Jensen scale                 Household     Person              12\n",
       "               Census family equivalized, square root    Household     Person               8\n",
       "               Economic family equivalized, square root  Household     Person              22\n",
       "               Equivalized                               Household     Household            8\n",
       "                                                                       Person            2657\n",
       "               Family equivalized                        Household     Person               7\n",
       "               Family equivalized, OECD                  Household     Person               4\n",
       "               Family equivalized, national scale        Household     Person               8\n",
       "               Family equivalized, social assistance     Household     Person              25\n",
       "               Family equivalized, square root           Household     Person               9\n",
       "               Household equivalized, social assistance  Household     Person              15\n",
       "               National scale                            Household     Person              20\n",
       "               OECD                                      Household     Person              11\n",
       "               OECD-modified                             Household     Person             659\n",
       "               Tax unit equivalized, square root         Tax unit      Person               1\n",
       "No adjustment  No adjustment                             Household     Family               2\n",
       "                                                                       Household         1330\n",
       "                                                                       Person               8\n",
       "                                                         Person        Person             768\n",
       "                                                         Tax unit      Tax unit            49\n",
       "Per capita     Family per capita                         Household     Person              93\n",
       "               Head of household                         Household     Person              22\n",
       "               Per capita                                Family        Person               6\n",
       "                                                         Household     Person            4805\n",
       "               Tax unit per capita                       Household     Person               2\n",
       "                                                         Tax unit      Person               1\n",
       "Name: count, dtype: int64"
      ]
     },
     "execution_count": 16,
     "metadata": {},
     "output_type": "execute_result"
    }
   ],
   "source": [
    "data[[\"scale\", \"scale_detailed\", \"sharing_unit\", \"reference_unit\"]].value_counts().sort_index()"
   ]
  },
  {
   "cell_type": "code",
   "execution_count": 33,
   "metadata": {},
   "outputs": [
    {
     "data": {
      "text/plain": [
       "27"
      ]
     },
     "execution_count": 33,
     "metadata": {},
     "output_type": "execute_result"
    }
   ],
   "source": [
    "data[[\"scale\", \"scale_detailed\", \"sharing_unit\", \"reference_unit\"]].value_counts().shape[0]"
   ]
  },
  {
   "cell_type": "code",
   "execution_count": 18,
   "metadata": {},
   "outputs": [],
   "source": [
    "data[[\"scale\", \"scale_detailed\", \"sharing_unit\", \"reference_unit\"]].value_counts().sort_index().to_csv(path+\"processed/scales.csv\")"
   ]
  },
  {
   "cell_type": "code",
   "execution_count": 23,
   "metadata": {},
   "outputs": [
    {
     "data": {
      "text/plain": [
       "areacovr\n",
       "All      9359\n",
       "Urban    1000\n",
       "Rural     633\n",
       "Part      109\n",
       "Name: count, dtype: int64"
      ]
     },
     "execution_count": 23,
     "metadata": {},
     "output_type": "execute_result"
    }
   ],
   "source": [
    "data[\"areacovr\"].value_counts()"
   ]
  },
  {
   "cell_type": "code",
   "execution_count": 22,
   "metadata": {},
   "outputs": [
    {
     "data": {
      "text/plain": [
       "areacovr  areacovr_detailed                                                           \n",
       "All       All                                                                             9226\n",
       "Urban     Urban                                                                            849\n",
       "Rural     Rural                                                                            612\n",
       "Part      West Germany                                                                      74\n",
       "Urban     Capital                                                                           61\n",
       "          Metropolitan area                                                                 42\n",
       "All       Without rural north                                                               40\n",
       "          With rural north                                                                  24\n",
       "Part      East Germany                                                                      22\n",
       "Rural     Agricultural sector                                                               19\n",
       "All       All, excl. Transnistria                                                           18\n",
       "Urban     Nonagricultural sector                                                            18\n",
       "All       All, excl. some special areas (4% of the population)                              12\n",
       "          Continental Portugal                                                               9\n",
       "Urban     Cities (n=7)                                                                       7\n",
       "          Cities                                                                             5\n",
       "          All, mainly urban areas                                                            5\n",
       "Part      Nonmetropolitan area                                                               5\n",
       "All       All, excl. Costa Rural, Selva Rural and Selva Urbana (30% of the population)       4\n",
       "Urban     Paramaribo and Wanica                                                              4\n",
       "All       All, excl. West Irian and East Timor                                               4\n",
       "          All, excl. East Timor                                                              4\n",
       "          Main island                                                                        4\n",
       "          All, excl. Abkhasia and Tskhinvali                                                 3\n",
       "          All, excl. northern and eastern provinces                                          3\n",
       "          All, excl. East-Central State                                                      2\n",
       "Urban     Urban, excl. metropolitan area                                                     2\n",
       "All       All, excl. West Irian, East Timor and Maluku                                       2\n",
       "          All, excl. eight districts in the north and the east (15% of the population)       2\n",
       "Part      Estate sector                                                                      2\n",
       "Urban     Cities (n=4)                                                                       2\n",
       "Part      Six northern provinces                                                             2\n",
       "All       All, excl. nomadic areas                                                           1\n",
       "          All, excl. seven districts                                                         1\n",
       "Part      Four areas                                                                         1\n",
       "          Peninsular Malaysia                                                                1\n",
       "          Java                                                                               1\n",
       "Rural     Four rural areas                                                                   1\n",
       "Part      Three cantons                                                                      1\n",
       "Rural     Rural, excl. seven districts on national level                                     1\n",
       "Urban     Cities (n=17)                                                                      1\n",
       "          Cities (n=16)                                                                      1\n",
       "          Cities (n=8)                                                                       1\n",
       "          Urban, excl. Western Province                                                      1\n",
       "          Urban, excl. seven districts on national level                                     1\n",
       "Name: count, dtype: int64"
      ]
     },
     "execution_count": 22,
     "metadata": {},
     "output_type": "execute_result"
    }
   ],
   "source": [
    "data[[\"areacovr\", \"areacovr_detailed\"]].value_counts()"
   ]
  },
  {
   "cell_type": "code",
   "execution_count": 24,
   "metadata": {},
   "outputs": [
    {
     "data": {
      "text/plain": [
       "popcovr\n",
       "All                    9882\n",
       "Specific categories     751\n",
       "Economically active     468\n",
       "Name: count, dtype: int64"
      ]
     },
     "execution_count": 24,
     "metadata": {},
     "output_type": "execute_result"
    }
   ],
   "source": [
    "data[\"popcovr\"].value_counts()"
   ]
  },
  {
   "cell_type": "code",
   "execution_count": 25,
   "metadata": {},
   "outputs": [
    {
     "data": {
      "text/plain": [
       "popcovr              popcovr_detailed                                 \n",
       "All                  All                                                  9882\n",
       "Economically active  Employed                                              154\n",
       "                     Income recipients                                     123\n",
       "Specific categories  Males, aged 20+                                       119\n",
       "Economically active  Taxpayers                                              96\n",
       "                                                                          ... \n",
       "Specific categories  Employed, private sector                                1\n",
       "                     Income recipients, public sector                        1\n",
       "                     Non-estate sector                                       1\n",
       "                     Self-employed households                                1\n",
       "                     Taxpayers, permanently employed and self-employed       1\n",
       "Name: count, Length: 82, dtype: int64"
      ]
     },
     "execution_count": 25,
     "metadata": {},
     "output_type": "execute_result"
    }
   ],
   "source": [
    "data[[\"popcovr\", \"popcovr_detailed\"]].value_counts()"
   ]
  },
  {
   "cell_type": "code",
   "execution_count": 28,
   "metadata": {},
   "outputs": [
    {
     "data": {
      "text/plain": [
       "region_un\n",
       "Europe      4416\n",
       "Americas    3531\n",
       "Asia        2165\n",
       "Africa       634\n",
       "Oceania      355\n",
       "Name: count, dtype: int64"
      ]
     },
     "execution_count": 28,
     "metadata": {},
     "output_type": "execute_result"
    }
   ],
   "source": [
    "data[\"region_un\"].value_counts()"
   ]
  },
  {
   "cell_type": "code",
   "execution_count": 29,
   "metadata": {},
   "outputs": [
    {
     "data": {
      "text/plain": [
       "region_un  region_un_sub            \n",
       "Americas   South America                1606\n",
       "Europe     Northern Europe              1501\n",
       "           Eastern Europe               1111\n",
       "Americas   Central America               965\n",
       "Europe     Western Europe                928\n",
       "           Southern Europe               876\n",
       "Asia       Eastern Asia                  700\n",
       "Americas   Northern America              674\n",
       "Asia       Southern Asia                 506\n",
       "           Western Asia                  419\n",
       "           South-eastern Asia            403\n",
       "Oceania    Australia and New Zealand     322\n",
       "Americas   Caribbean                     286\n",
       "Africa     Eastern Africa                221\n",
       "           Western Africa                175\n",
       "Asia       Central Asia                  137\n",
       "Africa     Northern Africa                98\n",
       "           Southern Africa                87\n",
       "           Middle Africa                  53\n",
       "Oceania    Melanesia                      22\n",
       "           Micronesia                      7\n",
       "           Polynesia                       4\n",
       "Name: count, dtype: int64"
      ]
     },
     "execution_count": 29,
     "metadata": {},
     "output_type": "execute_result"
    }
   ],
   "source": [
    "data[[\"region_un\", \"region_un_sub\"]].value_counts()"
   ]
  },
  {
   "cell_type": "code",
   "execution_count": 30,
   "metadata": {},
   "outputs": [
    {
     "data": {
      "text/plain": [
       "281"
      ]
     },
     "execution_count": 30,
     "metadata": {},
     "output_type": "execute_result"
    }
   ],
   "source": [
    "data[[\"areacovr\", \"areacovr_detailed\", \"popcovr\", \"popcovr_detailed\", \"region_un\", \"region_un_sub\"]].value_counts().shape[0]"
   ]
  },
  {
   "cell_type": "code",
   "execution_count": 32,
   "metadata": {},
   "outputs": [
    {
     "data": {
      "text/plain": [
       "eu      oecd    \n",
       "Non-EU  Non-OECD    5379\n",
       "EU      OECD        3224\n",
       "Non-EU  OECD        2096\n",
       "EU      Non-OECD     402\n",
       "Name: count, dtype: int64"
      ]
     },
     "execution_count": 32,
     "metadata": {},
     "output_type": "execute_result"
    }
   ],
   "source": [
    "data[[\"eu\", \"oecd\"]].value_counts()"
   ]
  },
  {
   "cell_type": "code",
   "execution_count": 34,
   "metadata": {},
   "outputs": [
    {
     "data": {
      "text/plain": [
       "incomegroup\n",
       "High income            6116\n",
       "Upper middle income    3053\n",
       "Lower middle income    1653\n",
       "Low income              279\n",
       "Name: count, dtype: int64"
      ]
     },
     "execution_count": 34,
     "metadata": {},
     "output_type": "execute_result"
    }
   ],
   "source": [
    "data[\"incomegroup\"].value_counts()"
   ]
  },
  {
   "cell_type": "code",
   "execution_count": 44,
   "metadata": {},
   "outputs": [
    {
     "data": {
      "text/plain": [
       "mean          0.478786\n",
       "median        0.592829\n",
       "mean_usd      0.851004\n",
       "median_usd    0.851365\n",
       "dtype: float64"
      ]
     },
     "execution_count": 44,
     "metadata": {},
     "output_type": "execute_result"
    }
   ],
   "source": [
    "data[[\"mean\", \"median\", \"mean_usd\", \"median_usd\"]].isna().sum() / data.shape[0]"
   ]
  },
  {
   "cell_type": "code",
   "execution_count": 58,
   "metadata": {},
   "outputs": [
    {
     "data": {
      "text/html": [
       "<div>\n",
       "<style scoped>\n",
       "    .dataframe tbody tr th:only-of-type {\n",
       "        vertical-align: middle;\n",
       "    }\n",
       "\n",
       "    .dataframe tbody tr th {\n",
       "        vertical-align: top;\n",
       "    }\n",
       "\n",
       "    .dataframe thead th {\n",
       "        text-align: right;\n",
       "    }\n",
       "</style>\n",
       "<table border=\"1\" class=\"dataframe\">\n",
       "  <thead>\n",
       "    <tr style=\"text-align: right;\">\n",
       "      <th></th>\n",
       "      <th>currency</th>\n",
       "    </tr>\n",
       "    <tr>\n",
       "      <th>country</th>\n",
       "      <th></th>\n",
       "    </tr>\n",
       "  </thead>\n",
       "  <tbody>\n",
       "    <tr>\n",
       "      <th>Zimbabwe</th>\n",
       "      <td>3</td>\n",
       "    </tr>\n",
       "    <tr>\n",
       "      <th>Zambia</th>\n",
       "      <td>2</td>\n",
       "    </tr>\n",
       "    <tr>\n",
       "      <th>Yugoslavia</th>\n",
       "      <td>1</td>\n",
       "    </tr>\n",
       "    <tr>\n",
       "      <th>Yemen</th>\n",
       "      <td>1</td>\n",
       "    </tr>\n",
       "    <tr>\n",
       "      <th>West Bank and Gaza</th>\n",
       "      <td>1</td>\n",
       "    </tr>\n",
       "    <tr>\n",
       "      <th>...</th>\n",
       "      <td>...</td>\n",
       "    </tr>\n",
       "    <tr>\n",
       "      <th>Angola</th>\n",
       "      <td>2</td>\n",
       "    </tr>\n",
       "    <tr>\n",
       "      <th>Andorra</th>\n",
       "      <td>1</td>\n",
       "    </tr>\n",
       "    <tr>\n",
       "      <th>Algeria</th>\n",
       "      <td>1</td>\n",
       "    </tr>\n",
       "    <tr>\n",
       "      <th>Albania</th>\n",
       "      <td>1</td>\n",
       "    </tr>\n",
       "    <tr>\n",
       "      <th>Afghanistan</th>\n",
       "      <td>1</td>\n",
       "    </tr>\n",
       "  </tbody>\n",
       "</table>\n",
       "<p>189 rows × 1 columns</p>\n",
       "</div>"
      ],
      "text/plain": [
       "                    currency\n",
       "country                     \n",
       "Zimbabwe                   3\n",
       "Zambia                     2\n",
       "Yugoslavia                 1\n",
       "Yemen                      1\n",
       "West Bank and Gaza         1\n",
       "...                      ...\n",
       "Angola                     2\n",
       "Andorra                    1\n",
       "Algeria                    1\n",
       "Albania                    1\n",
       "Afghanistan                1\n",
       "\n",
       "[189 rows x 1 columns]"
      ]
     },
     "execution_count": 58,
     "metadata": {},
     "output_type": "execute_result"
    }
   ],
   "source": [
    "data[[\"country\", \"currency\"]].groupby(\"country\").nunique().sort_index(ascending=False)"
   ]
  },
  {
   "cell_type": "code",
   "execution_count": 64,
   "metadata": {},
   "outputs": [
    {
     "data": {
      "text/html": [
       "<div>\n",
       "<style scoped>\n",
       "    .dataframe tbody tr th:only-of-type {\n",
       "        vertical-align: middle;\n",
       "    }\n",
       "\n",
       "    .dataframe tbody tr th {\n",
       "        vertical-align: top;\n",
       "    }\n",
       "\n",
       "    .dataframe thead th {\n",
       "        text-align: right;\n",
       "    }\n",
       "</style>\n",
       "<table border=\"1\" class=\"dataframe\">\n",
       "  <thead>\n",
       "    <tr style=\"text-align: right;\">\n",
       "      <th></th>\n",
       "      <th>currency</th>\n",
       "      <th>reference_period</th>\n",
       "      <th>exchangerate</th>\n",
       "    </tr>\n",
       "  </thead>\n",
       "  <tbody>\n",
       "    <tr>\n",
       "      <th>0</th>\n",
       "      <td>Afghan afghani</td>\n",
       "      <td>Month</td>\n",
       "      <td>50.249615</td>\n",
       "    </tr>\n",
       "    <tr>\n",
       "      <th>1</th>\n",
       "      <td>US$2011PPP</td>\n",
       "      <td>Year</td>\n",
       "      <td>104.498917</td>\n",
       "    </tr>\n",
       "    <tr>\n",
       "      <th>2</th>\n",
       "      <td>US$2011PPP</td>\n",
       "      <td>Year</td>\n",
       "      <td>140.154516</td>\n",
       "    </tr>\n",
       "    <tr>\n",
       "      <th>3</th>\n",
       "      <td>US$2011PPP</td>\n",
       "      <td>Year</td>\n",
       "      <td>99.870254</td>\n",
       "    </tr>\n",
       "    <tr>\n",
       "      <th>4</th>\n",
       "      <td>US$2011PPP</td>\n",
       "      <td>Year</td>\n",
       "      <td>83.894604</td>\n",
       "    </tr>\n",
       "  </tbody>\n",
       "</table>\n",
       "</div>"
      ],
      "text/plain": [
       "         currency reference_period  exchangerate\n",
       "0  Afghan afghani            Month     50.249615\n",
       "1      US$2011PPP             Year    104.498917\n",
       "2      US$2011PPP             Year    140.154516\n",
       "3      US$2011PPP             Year     99.870254\n",
       "4      US$2011PPP             Year     83.894604"
      ]
     },
     "execution_count": 64,
     "metadata": {},
     "output_type": "execute_result"
    }
   ],
   "source": [
    "data[[\"currency\", \"reference_period\", \"exchangerate\"]].head()"
   ]
  },
  {
   "cell_type": "code",
   "execution_count": 61,
   "metadata": {},
   "outputs": [
    {
     "data": {
      "text/plain": [
       "currency            4389\n",
       "reference_period    4325\n",
       "exchangerate         966\n",
       "dtype: int64"
      ]
     },
     "execution_count": 61,
     "metadata": {},
     "output_type": "execute_result"
    }
   ],
   "source": [
    "data[[\"currency\", \"reference_period\", \"exchangerate\"]].isna().sum()"
   ]
  },
  {
   "cell_type": "code",
   "execution_count": 69,
   "metadata": {},
   "outputs": [
    {
     "data": {
      "text/html": [
       "<div>\n",
       "<style scoped>\n",
       "    .dataframe tbody tr th:only-of-type {\n",
       "        vertical-align: middle;\n",
       "    }\n",
       "\n",
       "    .dataframe tbody tr th {\n",
       "        vertical-align: top;\n",
       "    }\n",
       "\n",
       "    .dataframe thead th {\n",
       "        text-align: right;\n",
       "    }\n",
       "</style>\n",
       "<table border=\"1\" class=\"dataframe\">\n",
       "  <thead>\n",
       "    <tr style=\"text-align: right;\">\n",
       "      <th></th>\n",
       "      <th>country</th>\n",
       "      <th>gdp_ppp_pc_usd2011</th>\n",
       "      <th>population</th>\n",
       "    </tr>\n",
       "  </thead>\n",
       "  <tbody>\n",
       "    <tr>\n",
       "      <th>0</th>\n",
       "      <td>Afghanistan</td>\n",
       "      <td>1298.0</td>\n",
       "      <td>27294031.0</td>\n",
       "    </tr>\n",
       "    <tr>\n",
       "      <th>1</th>\n",
       "      <td>Albania</td>\n",
       "      <td>4812.0</td>\n",
       "      <td>3092228.0</td>\n",
       "    </tr>\n",
       "    <tr>\n",
       "      <th>2</th>\n",
       "      <td>Albania</td>\n",
       "      <td>6316.0</td>\n",
       "      <td>3119029.0</td>\n",
       "    </tr>\n",
       "    <tr>\n",
       "      <th>3</th>\n",
       "      <td>Albania</td>\n",
       "      <td>7563.0</td>\n",
       "      <td>3079179.0</td>\n",
       "    </tr>\n",
       "    <tr>\n",
       "      <th>4</th>\n",
       "      <td>Albania</td>\n",
       "      <td>9018.0</td>\n",
       "      <td>2991651.0</td>\n",
       "    </tr>\n",
       "  </tbody>\n",
       "</table>\n",
       "</div>"
      ],
      "text/plain": [
       "       country  gdp_ppp_pc_usd2011  population\n",
       "0  Afghanistan              1298.0  27294031.0\n",
       "1      Albania              4812.0   3092228.0\n",
       "2      Albania              6316.0   3119029.0\n",
       "3      Albania              7563.0   3079179.0\n",
       "4      Albania              9018.0   2991651.0"
      ]
     },
     "execution_count": 69,
     "metadata": {},
     "output_type": "execute_result"
    }
   ],
   "source": [
    "data[[\"country\", \"gdp_ppp_pc_usd2011\", \"population\"]].head()"
   ]
  },
  {
   "cell_type": "code",
   "execution_count": 70,
   "metadata": {},
   "outputs": [
    {
     "name": "stdout",
     "output_type": "stream",
     "text": [
      "0\n",
      "3409\n",
      "58\n"
     ]
    }
   ],
   "source": [
    "print(data[\"country\"].isna().sum())\n",
    "print(data[\"gdp_ppp_pc_usd2011\"].isna().sum())\n",
    "print(data[\"population\"].isna().sum())"
   ]
  },
  {
   "cell_type": "code",
   "execution_count": 92,
   "metadata": {},
   "outputs": [
    {
     "name": "stdout",
     "output_type": "stream",
     "text": [
      "['Afghanistan' 'Albania' 'Algeria' 'Andorra' 'Angola' 'Argentina'\n",
      " 'Armenia' 'Australia' 'Austria' 'Azerbaijan']\n",
      "['Australia' 'Denmark' 'Germany' 'Guatemala' 'Israel' 'Italy' 'Japan'\n",
      " 'Kenya' 'Netherlands' 'Soviet Union' 'Sweden' 'United Kingdom'\n",
      " 'United States' 'Zimbabwe']\n",
      "['Australia', 'Denmark', 'Germany', 'Guatemala', 'Israel', 'Italy', 'Japan', 'Kenya', 'Netherlands', 'Soviet Union', 'Sweden', 'United Kingdom', 'United States', 'Zimbabwe']\n",
      "[]\n"
     ]
    }
   ],
   "source": [
    "countries_with_pop = data[data[\"population\"].notna()][\"country\"].unique()\n",
    "countries_without_pop = data[data[\"population\"].isna()][\"country\"].unique()\n",
    "\n",
    "print(countries_with_pop[:10])\n",
    "print(countries_without_pop)\n",
    "\n",
    "print([c for c in countries_without_pop if c in countries_with_pop])\n",
    "print([c for c in countries_without_pop if c not in countries_with_pop])"
   ]
  },
  {
   "cell_type": "code",
   "execution_count": 99,
   "metadata": {},
   "outputs": [
    {
     "data": {
      "text/plain": [
       "array(['New 2013', 'New 2018', nan, 'New 2007', 'New 2008', 'New 2017'],\n",
       "      dtype=object)"
      ]
     },
     "execution_count": 99,
     "metadata": {},
     "output_type": "execute_result"
    }
   ],
   "source": [
    "data[\"revision\"].unique()"
   ]
  },
  {
   "cell_type": "code",
   "execution_count": 97,
   "metadata": {},
   "outputs": [
    {
     "data": {
      "text/plain": [
       "np.int64(27)"
      ]
     },
     "execution_count": 97,
     "metadata": {},
     "output_type": "execute_result"
    }
   ],
   "source": [
    "data[data[\"population\"].isna()][\"revision\"].isna().sum()"
   ]
  }
 ],
 "metadata": {
  "kernelspec": {
   "display_name": ".env",
   "language": "python",
   "name": "python3"
  },
  "language_info": {
   "codemirror_mode": {
    "name": "ipython",
    "version": 3
   },
   "file_extension": ".py",
   "mimetype": "text/x-python",
   "name": "python",
   "nbconvert_exporter": "python",
   "pygments_lexer": "ipython3",
   "version": "3.10.0"
  }
 },
 "nbformat": 4,
 "nbformat_minor": 2
}
